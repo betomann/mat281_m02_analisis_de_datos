{
 "cells": [
  {
   "cell_type": "markdown",
   "metadata": {
    "slideshow": {
     "slide_type": "slide"
    }
   },
   "source": [
    "# MAT281\n",
    "\n",
    "## Aplicaciones de la Matemática en la Ingeniería\n",
    "\n",
    "Puedes ejecutar este jupyter notebook de manera interactiva:\n",
    "[![Binder](../shared/images/jupyter_binder.png)](https://mybinder.org/v2/gh/sebastiandres/mat281_m02_introduccion/master?filepath=02_tabulando_datos/02_tabulando_datos.ipynb)\n",
    "\n",
    "[![Colab](../shared/images/jupyter_colab.png)](https://colab.research.google.com/github/sebastiandres/mat281_m02_analisis_datos/blob/master//02_tabulando_datos/02_tabulando_datos.ipynb)"
   ]
  },
  {
   "cell_type": "markdown",
   "metadata": {
    "slideshow": {
     "slide_type": "slide"
    }
   },
   "source": [
    "## ¿Qué contenido aprenderemos?\n",
    "* Conocimiento básico.\n",
    "* Etiqueta para datos tabulares (aka tabla).\n",
    "* Pivotear una tabla.\n",
    "* Despivotear una tabla"
   ]
  },
  {
   "cell_type": "markdown",
   "metadata": {
    "slideshow": {
     "slide_type": "slide"
    }
   },
   "source": [
    "## ¿Porqué aprenderemos eso?"
   ]
  },
  {
   "cell_type": "markdown",
   "metadata": {
    "slideshow": {
     "slide_type": "fragment"
    }
   },
   "source": [
    "**1**. Resulta ser la tarea más habitual en la manipulación de datos. Garantizado: 25% del tiempo, mínimo."
   ]
  },
  {
   "cell_type": "markdown",
   "metadata": {
    "slideshow": {
     "slide_type": "fragment"
    }
   },
   "source": [
    "**2**. Visto en twitter:\n",
    "\n",
    "* Me: *So, first question, what's the oposite of pivoting a table?*\n",
    "* Interviewee: *Ehhh, melting a table?*\n",
    "* Me: *Hired!*"
   ]
  },
  {
   "cell_type": "markdown",
   "metadata": {
    "slideshow": {
     "slide_type": "slide"
    }
   },
   "source": [
    "## 1. Datos tabulares\n",
    "\n",
    "Los datos tabulares, como su nombre lo indica, son aquellos que han sido representarse mediante una tabla que relaciona sus atributos y valores.\n",
    "\n",
    "Ejemplo de tabla acá."
   ]
  },
  {
   "cell_type": "markdown",
   "metadata": {
    "slideshow": {
     "slide_type": "slide"
    }
   },
   "source": [
    "## 1. Datos tabulares\n",
    "\n",
    "¿Existen datos que no pueden representarse mediante una datos tabulares?"
   ]
  },
  {
   "cell_type": "markdown",
   "metadata": {
    "slideshow": {
     "slide_type": "slide"
    }
   },
   "source": [
    "No lo sé.\n",
    "Arboles y grafos sí se pueden.\n",
    "En general, pareciera que existen modelos más eficientes, pero que siempre podría almacenarse (ineficientemente) como datos tabulares."
   ]
  },
  {
   "cell_type": "markdown",
   "metadata": {
    "slideshow": {
     "slide_type": "slide"
    }
   },
   "source": [
    "## 1. Datos tabulares\n",
    "\n",
    "Típicamente, existen ciertas columnas que son las columnas \"identificadoras\" y para las cuales *debiera* existir una única fila en la tabla. \n",
    "\n",
    "Por otra parte, existen columnas de datos, para las cuales pueden agregarse más información.\n",
    "\n",
    "FIGURA:"
   ]
  },
  {
   "cell_type": "markdown",
   "metadata": {
    "slideshow": {
     "slide_type": "slide"
    }
   },
   "source": [
    "## 1. Datos tabulares\n",
    "\n",
    "Ejemplo incorrecto de datos tabulares: una fila repetida o con información inconexa.\n",
    "\n",
    "Ejemplo parcialmente correcto: insuficientes columnas de identificadores.\n",
    "\n",
    "Ejemplo correco: columnas suficientes."
   ]
  },
  {
   "cell_type": "markdown",
   "metadata": {
    "slideshow": {
     "slide_type": "slide"
    }
   },
   "source": [
    "## 1. Datos tabulares\n",
    "### wide format versus long format\n",
    "\n",
    "Googlear"
   ]
  },
  {
   "cell_type": "markdown",
   "metadata": {
    "slideshow": {
     "slide_type": "slide"
    }
   },
   "source": [
    "## 2. Etiqueta Datos tabulares\n",
    "\n",
    "Antes de pasar a la tabulación de los datos, hablaremos de un tema pocas veces mencionado. ¿Cómo debemos dar formato a las tablas que compartimos? ¿Existe una *etiqueta* de datos tabulares?\n",
    "\n",
    "El formato y diseño de una tabla es crucial: si se hace bien, los datos son faciles de revisar y comparar. Si se hace mal, dificulta y oscurece el entendimiento de la información.\n",
    "\n",
    "Al igual que con las visualizaciones, la finalidad de un buen formato de tablas es que la información pueda ser consumida de manera correcta y rápida por una persona externa, sin posibilidad de malinterpretaciones."
   ]
  },
  {
   "cell_type": "markdown",
   "metadata": {
    "slideshow": {
     "slide_type": "slide"
    }
   },
   "source": [
    "## 2. Etiqueta de Datos tabulares\n",
    "Las reglas básicas a considerar:\n",
    "1. La fuente de todos los números debe ser uniforme y permitir comparaciones.\n",
    "2. Las columnas deben tener separador de miles y, dentro de lo posible, la misma cantidad de decimales. Mientras menos, mejor."
   ]
  },
  {
   "cell_type": "markdown",
   "metadata": {
    "slideshow": {
     "slide_type": "slide"
    }
   },
   "source": [
    "## 2. Etiqueta de Datos tabulares\n",
    "\n",
    "3. Mencionar las unidades en el nombre de la columna cuando sea relevante.\n",
    "1. Datos numéricos deben estar alineados a la derecha."
   ]
  },
  {
   "cell_type": "markdown",
   "metadata": {
    "slideshow": {
     "slide_type": "slide"
    }
   },
   "source": [
    "## 2. Etiqueta de Datos tabulares\n",
    "\n",
    "5. Datos de texto deben estar alineados a la izquierda.\n",
    "1. Los títulos de las columnas deben estar alineados con sus datos."
   ]
  },
  {
   "cell_type": "markdown",
   "metadata": {
    "slideshow": {
     "slide_type": "slide"
    }
   },
   "source": [
    "## 2. Etiqueta de Datos tabulares\n",
    "\n",
    "7. Usar el color de manera apropiada y frugalmente.\n",
    "1. Entregar valores de agrupación según sea necesario."
   ]
  },
  {
   "cell_type": "markdown",
   "metadata": {
    "slideshow": {
     "slide_type": "slide"
    }
   },
   "source": [
    "## 2. Datos tabulares\n",
    "Ejemplo mal formato: \n",
    "\n",
    "![ejemplo_1](images/2_tabla_mal_formato.png)"
   ]
  },
  {
   "cell_type": "markdown",
   "metadata": {
    "slideshow": {
     "slide_type": "slide"
    }
   },
   "source": [
    "## 2. Datos tabulares\n",
    "Ejemplo un poco mejor formato: \n",
    "\n",
    "![ejemplo_1](images/2_tabla_mejor_formato.png)"
   ]
  },
  {
   "cell_type": "markdown",
   "metadata": {
    "slideshow": {
     "slide_type": "slide"
    }
   },
   "source": [
    "## 2. Datos tabulares\n",
    "Ejemplo formato final: \n",
    "\n",
    "![ejemplo_1](images/2_tabla_mucho_mejor_formato.png)"
   ]
  },
  {
   "cell_type": "markdown",
   "metadata": {
    "slideshow": {
     "slide_type": "slide"
    }
   },
   "source": [
    "## 3. Pivoteando una tabla\n"
   ]
  },
  {
   "cell_type": "code",
   "execution_count": null,
   "metadata": {},
   "outputs": [],
   "source": [
    "import pandas as pd"
   ]
  },
  {
   "cell_type": "markdown",
   "metadata": {
    "slideshow": {
     "slide_type": "slide"
    }
   },
   "source": [
    "## 4. Despivoteando una tabla\n",
    "\n",
    "**Disclaimer**: No conozco una mejor traducción. En inglés tampoco se han puesto de acuerdo. He visto: *melt*, *un-pivot* y *reverse-pivot*, entre otros. Hasta ahora nadie me ha corregido con una mejor traducción.\n",
    "\n",
    "El proceso de \"des-pivotear\" típicamente se realiza para poder agregar más información a una tabla de datos, o ponerla en un formato que permita un análisis apropiado."
   ]
  },
  {
   "cell_type": "markdown",
   "metadata": {
    "slideshow": {
     "slide_type": "slide"
    }
   },
   "source": [
    "## 4. Despivoteando una tabla\n",
    "\n",
    "Típicamente existen 2 opciones:\n",
    "1. El valor indicado para la columna es único, y sólo se requiere definir correctamente las columnas.\n",
    "2. El valor indicado por la columna no es único o requiere un procesamiento adicional, y se requiere una iteración más profunda.\n"
   ]
  },
  {
   "cell_type": "markdown",
   "metadata": {
    "slideshow": {
     "slide_type": "slide"
    }
   },
   "source": [
    "## 4. Despivoteando una tabla\n",
    "### 4.1 Valor único: definir las columnas necesarias"
   ]
  },
  {
   "cell_type": "code",
   "execution_count": 37,
   "metadata": {},
   "outputs": [],
   "source": [
    "import pandas as pd\n",
    "columns = [\"sala\",\"Lu-8:00\",\"Lu-9:00\",\"Lu-10:00\",\"Ma-8:00\",\"Ma-9:00\",\"Ma-10:00\"]\n",
    "data = [\n",
    "        [\"C201\",\"mat1\",\"mat1\",    \"\",\"\",\"\",\"\"],\n",
    "        [\"C202\",    \"\",    \"\",    \"\",\"mat1\",\"mat1\",    \"\"],\n",
    "        [\"C203\",\"fis1\",\"fis1\",\"fis1\",\"fis1\",\"fis1\",\"fis1\"],\n",
    "       ]\n",
    "df = pd.DataFrame(data=data, columns=columns)"
   ]
  },
  {
   "cell_type": "code",
   "execution_count": 38,
   "metadata": {
    "slideshow": {
     "slide_type": "slide"
    }
   },
   "outputs": [
    {
     "data": {
      "text/html": [
       "<div>\n",
       "<style scoped>\n",
       "    .dataframe tbody tr th:only-of-type {\n",
       "        vertical-align: middle;\n",
       "    }\n",
       "\n",
       "    .dataframe tbody tr th {\n",
       "        vertical-align: top;\n",
       "    }\n",
       "\n",
       "    .dataframe thead th {\n",
       "        text-align: right;\n",
       "    }\n",
       "</style>\n",
       "<table border=\"1\" class=\"dataframe\">\n",
       "  <thead>\n",
       "    <tr style=\"text-align: right;\">\n",
       "      <th></th>\n",
       "      <th>sala</th>\n",
       "      <th>Lu-8:00</th>\n",
       "      <th>Lu-9:00</th>\n",
       "      <th>Lu-10:00</th>\n",
       "      <th>Ma-8:00</th>\n",
       "      <th>Ma-9:00</th>\n",
       "      <th>Ma-10:00</th>\n",
       "    </tr>\n",
       "  </thead>\n",
       "  <tbody>\n",
       "    <tr>\n",
       "      <th>0</th>\n",
       "      <td>C201</td>\n",
       "      <td>mat1</td>\n",
       "      <td>mat1</td>\n",
       "      <td></td>\n",
       "      <td></td>\n",
       "      <td></td>\n",
       "      <td></td>\n",
       "    </tr>\n",
       "    <tr>\n",
       "      <th>1</th>\n",
       "      <td>C202</td>\n",
       "      <td></td>\n",
       "      <td></td>\n",
       "      <td></td>\n",
       "      <td>mat1</td>\n",
       "      <td>mat1</td>\n",
       "      <td></td>\n",
       "    </tr>\n",
       "    <tr>\n",
       "      <th>2</th>\n",
       "      <td>C203</td>\n",
       "      <td>fis1</td>\n",
       "      <td>fis1</td>\n",
       "      <td>fis1</td>\n",
       "      <td>fis1</td>\n",
       "      <td>fis1</td>\n",
       "      <td>fis1</td>\n",
       "    </tr>\n",
       "  </tbody>\n",
       "</table>\n",
       "</div>"
      ],
      "text/plain": [
       "   sala Lu-8:00 Lu-9:00 Lu-10:00 Ma-8:00 Ma-9:00 Ma-10:00\n",
       "0  C201    mat1    mat1                                  \n",
       "1  C202                             mat1    mat1         \n",
       "2  C203    fis1    fis1     fis1    fis1    fis1     fis1"
      ]
     },
     "execution_count": 38,
     "metadata": {},
     "output_type": "execute_result"
    }
   ],
   "source": [
    "df"
   ]
  },
  {
   "cell_type": "markdown",
   "metadata": {
    "slideshow": {
     "slide_type": "slide"
    }
   },
   "source": [
    "La documentación de melt es bastante explícita aunque no muy amigable:"
   ]
  },
  {
   "cell_type": "code",
   "execution_count": 22,
   "metadata": {},
   "outputs": [],
   "source": [
    "df.melt?"
   ]
  },
  {
   "cell_type": "markdown",
   "metadata": {
    "slideshow": {
     "slide_type": "slide"
    }
   },
   "source": [
    "Intentémoslo:"
   ]
  },
  {
   "cell_type": "code",
   "execution_count": 39,
   "metadata": {},
   "outputs": [
    {
     "data": {
      "text/html": [
       "<div>\n",
       "<style scoped>\n",
       "    .dataframe tbody tr th:only-of-type {\n",
       "        vertical-align: middle;\n",
       "    }\n",
       "\n",
       "    .dataframe tbody tr th {\n",
       "        vertical-align: top;\n",
       "    }\n",
       "\n",
       "    .dataframe thead th {\n",
       "        text-align: right;\n",
       "    }\n",
       "</style>\n",
       "<table border=\"1\" class=\"dataframe\">\n",
       "  <thead>\n",
       "    <tr style=\"text-align: right;\">\n",
       "      <th></th>\n",
       "      <th>sala</th>\n",
       "      <th>Lu-8:00</th>\n",
       "      <th>Lu-9:00</th>\n",
       "      <th>Lu-10:00</th>\n",
       "      <th>Ma-8:00</th>\n",
       "      <th>Ma-9:00</th>\n",
       "      <th>Ma-10:00</th>\n",
       "    </tr>\n",
       "  </thead>\n",
       "  <tbody>\n",
       "    <tr>\n",
       "      <th>0</th>\n",
       "      <td>C201</td>\n",
       "      <td>mat1</td>\n",
       "      <td>mat1</td>\n",
       "      <td></td>\n",
       "      <td></td>\n",
       "      <td></td>\n",
       "      <td></td>\n",
       "    </tr>\n",
       "    <tr>\n",
       "      <th>1</th>\n",
       "      <td>C202</td>\n",
       "      <td></td>\n",
       "      <td></td>\n",
       "      <td></td>\n",
       "      <td>mat1</td>\n",
       "      <td>mat1</td>\n",
       "      <td></td>\n",
       "    </tr>\n",
       "    <tr>\n",
       "      <th>2</th>\n",
       "      <td>C203</td>\n",
       "      <td>fis1</td>\n",
       "      <td>fis1</td>\n",
       "      <td>fis1</td>\n",
       "      <td>fis1</td>\n",
       "      <td>fis1</td>\n",
       "      <td>fis1</td>\n",
       "    </tr>\n",
       "  </tbody>\n",
       "</table>\n",
       "</div>"
      ],
      "text/plain": [
       "   sala Lu-8:00 Lu-9:00 Lu-10:00 Ma-8:00 Ma-9:00 Ma-10:00\n",
       "0  C201    mat1    mat1                                  \n",
       "1  C202                             mat1    mat1         \n",
       "2  C203    fis1    fis1     fis1    fis1    fis1     fis1"
      ]
     },
     "execution_count": 39,
     "metadata": {},
     "output_type": "execute_result"
    }
   ],
   "source": [
    "df"
   ]
  },
  {
   "cell_type": "code",
   "execution_count": 40,
   "metadata": {},
   "outputs": [
    {
     "data": {
      "text/html": [
       "<div>\n",
       "<style scoped>\n",
       "    .dataframe tbody tr th:only-of-type {\n",
       "        vertical-align: middle;\n",
       "    }\n",
       "\n",
       "    .dataframe tbody tr th {\n",
       "        vertical-align: top;\n",
       "    }\n",
       "\n",
       "    .dataframe thead th {\n",
       "        text-align: right;\n",
       "    }\n",
       "</style>\n",
       "<table border=\"1\" class=\"dataframe\">\n",
       "  <thead>\n",
       "    <tr style=\"text-align: right;\">\n",
       "      <th></th>\n",
       "      <th>sala</th>\n",
       "      <th>variable</th>\n",
       "      <th>value</th>\n",
       "    </tr>\n",
       "  </thead>\n",
       "  <tbody>\n",
       "    <tr>\n",
       "      <th>0</th>\n",
       "      <td>C201</td>\n",
       "      <td>Lu-8:00</td>\n",
       "      <td>mat1</td>\n",
       "    </tr>\n",
       "    <tr>\n",
       "      <th>1</th>\n",
       "      <td>C202</td>\n",
       "      <td>Lu-8:00</td>\n",
       "      <td></td>\n",
       "    </tr>\n",
       "    <tr>\n",
       "      <th>2</th>\n",
       "      <td>C203</td>\n",
       "      <td>Lu-8:00</td>\n",
       "      <td>fis1</td>\n",
       "    </tr>\n",
       "    <tr>\n",
       "      <th>3</th>\n",
       "      <td>C201</td>\n",
       "      <td>Lu-9:00</td>\n",
       "      <td>mat1</td>\n",
       "    </tr>\n",
       "    <tr>\n",
       "      <th>4</th>\n",
       "      <td>C202</td>\n",
       "      <td>Lu-9:00</td>\n",
       "      <td></td>\n",
       "    </tr>\n",
       "    <tr>\n",
       "      <th>5</th>\n",
       "      <td>C203</td>\n",
       "      <td>Lu-9:00</td>\n",
       "      <td>fis1</td>\n",
       "    </tr>\n",
       "    <tr>\n",
       "      <th>6</th>\n",
       "      <td>C201</td>\n",
       "      <td>Lu-10:00</td>\n",
       "      <td></td>\n",
       "    </tr>\n",
       "    <tr>\n",
       "      <th>7</th>\n",
       "      <td>C202</td>\n",
       "      <td>Lu-10:00</td>\n",
       "      <td></td>\n",
       "    </tr>\n",
       "    <tr>\n",
       "      <th>8</th>\n",
       "      <td>C203</td>\n",
       "      <td>Lu-10:00</td>\n",
       "      <td>fis1</td>\n",
       "    </tr>\n",
       "    <tr>\n",
       "      <th>9</th>\n",
       "      <td>C201</td>\n",
       "      <td>Ma-8:00</td>\n",
       "      <td></td>\n",
       "    </tr>\n",
       "    <tr>\n",
       "      <th>10</th>\n",
       "      <td>C202</td>\n",
       "      <td>Ma-8:00</td>\n",
       "      <td>mat1</td>\n",
       "    </tr>\n",
       "    <tr>\n",
       "      <th>11</th>\n",
       "      <td>C203</td>\n",
       "      <td>Ma-8:00</td>\n",
       "      <td>fis1</td>\n",
       "    </tr>\n",
       "    <tr>\n",
       "      <th>12</th>\n",
       "      <td>C201</td>\n",
       "      <td>Ma-9:00</td>\n",
       "      <td></td>\n",
       "    </tr>\n",
       "    <tr>\n",
       "      <th>13</th>\n",
       "      <td>C202</td>\n",
       "      <td>Ma-9:00</td>\n",
       "      <td>mat1</td>\n",
       "    </tr>\n",
       "    <tr>\n",
       "      <th>14</th>\n",
       "      <td>C203</td>\n",
       "      <td>Ma-9:00</td>\n",
       "      <td>fis1</td>\n",
       "    </tr>\n",
       "    <tr>\n",
       "      <th>15</th>\n",
       "      <td>C201</td>\n",
       "      <td>Ma-10:00</td>\n",
       "      <td></td>\n",
       "    </tr>\n",
       "    <tr>\n",
       "      <th>16</th>\n",
       "      <td>C202</td>\n",
       "      <td>Ma-10:00</td>\n",
       "      <td></td>\n",
       "    </tr>\n",
       "    <tr>\n",
       "      <th>17</th>\n",
       "      <td>C203</td>\n",
       "      <td>Ma-10:00</td>\n",
       "      <td>fis1</td>\n",
       "    </tr>\n",
       "  </tbody>\n",
       "</table>\n",
       "</div>"
      ],
      "text/plain": [
       "    sala  variable value\n",
       "0   C201   Lu-8:00  mat1\n",
       "1   C202   Lu-8:00      \n",
       "2   C203   Lu-8:00  fis1\n",
       "3   C201   Lu-9:00  mat1\n",
       "4   C202   Lu-9:00      \n",
       "5   C203   Lu-9:00  fis1\n",
       "6   C201  Lu-10:00      \n",
       "7   C202  Lu-10:00      \n",
       "8   C203  Lu-10:00  fis1\n",
       "9   C201   Ma-8:00      \n",
       "10  C202   Ma-8:00  mat1\n",
       "11  C203   Ma-8:00  fis1\n",
       "12  C201   Ma-9:00      \n",
       "13  C202   Ma-9:00  mat1\n",
       "14  C203   Ma-9:00  fis1\n",
       "15  C201  Ma-10:00      \n",
       "16  C202  Ma-10:00      \n",
       "17  C203  Ma-10:00  fis1"
      ]
     },
     "execution_count": 40,
     "metadata": {},
     "output_type": "execute_result"
    }
   ],
   "source": [
    "df.melt(id_vars=[\"sala\"]) # columnas identificadoras"
   ]
  },
  {
   "cell_type": "code",
   "execution_count": 41,
   "metadata": {
    "slideshow": {
     "slide_type": "slide"
    }
   },
   "outputs": [
    {
     "data": {
      "text/html": [
       "<div>\n",
       "<style scoped>\n",
       "    .dataframe tbody tr th:only-of-type {\n",
       "        vertical-align: middle;\n",
       "    }\n",
       "\n",
       "    .dataframe tbody tr th {\n",
       "        vertical-align: top;\n",
       "    }\n",
       "\n",
       "    .dataframe thead th {\n",
       "        text-align: right;\n",
       "    }\n",
       "</style>\n",
       "<table border=\"1\" class=\"dataframe\">\n",
       "  <thead>\n",
       "    <tr style=\"text-align: right;\">\n",
       "      <th></th>\n",
       "      <th>sala</th>\n",
       "      <th>dia-hora</th>\n",
       "      <th>curso</th>\n",
       "    </tr>\n",
       "  </thead>\n",
       "  <tbody>\n",
       "    <tr>\n",
       "      <th>0</th>\n",
       "      <td>C201</td>\n",
       "      <td>Lu-8:00</td>\n",
       "      <td>mat1</td>\n",
       "    </tr>\n",
       "    <tr>\n",
       "      <th>1</th>\n",
       "      <td>C202</td>\n",
       "      <td>Lu-8:00</td>\n",
       "      <td></td>\n",
       "    </tr>\n",
       "    <tr>\n",
       "      <th>2</th>\n",
       "      <td>C203</td>\n",
       "      <td>Lu-8:00</td>\n",
       "      <td>fis1</td>\n",
       "    </tr>\n",
       "    <tr>\n",
       "      <th>3</th>\n",
       "      <td>C201</td>\n",
       "      <td>Lu-9:00</td>\n",
       "      <td>mat1</td>\n",
       "    </tr>\n",
       "    <tr>\n",
       "      <th>4</th>\n",
       "      <td>C202</td>\n",
       "      <td>Lu-9:00</td>\n",
       "      <td></td>\n",
       "    </tr>\n",
       "    <tr>\n",
       "      <th>5</th>\n",
       "      <td>C203</td>\n",
       "      <td>Lu-9:00</td>\n",
       "      <td>fis1</td>\n",
       "    </tr>\n",
       "    <tr>\n",
       "      <th>6</th>\n",
       "      <td>C201</td>\n",
       "      <td>Lu-10:00</td>\n",
       "      <td></td>\n",
       "    </tr>\n",
       "    <tr>\n",
       "      <th>7</th>\n",
       "      <td>C202</td>\n",
       "      <td>Lu-10:00</td>\n",
       "      <td></td>\n",
       "    </tr>\n",
       "    <tr>\n",
       "      <th>8</th>\n",
       "      <td>C203</td>\n",
       "      <td>Lu-10:00</td>\n",
       "      <td>fis1</td>\n",
       "    </tr>\n",
       "    <tr>\n",
       "      <th>9</th>\n",
       "      <td>C201</td>\n",
       "      <td>Ma-8:00</td>\n",
       "      <td></td>\n",
       "    </tr>\n",
       "    <tr>\n",
       "      <th>10</th>\n",
       "      <td>C202</td>\n",
       "      <td>Ma-8:00</td>\n",
       "      <td>mat1</td>\n",
       "    </tr>\n",
       "    <tr>\n",
       "      <th>11</th>\n",
       "      <td>C203</td>\n",
       "      <td>Ma-8:00</td>\n",
       "      <td>fis1</td>\n",
       "    </tr>\n",
       "    <tr>\n",
       "      <th>12</th>\n",
       "      <td>C201</td>\n",
       "      <td>Ma-9:00</td>\n",
       "      <td></td>\n",
       "    </tr>\n",
       "    <tr>\n",
       "      <th>13</th>\n",
       "      <td>C202</td>\n",
       "      <td>Ma-9:00</td>\n",
       "      <td>mat1</td>\n",
       "    </tr>\n",
       "    <tr>\n",
       "      <th>14</th>\n",
       "      <td>C203</td>\n",
       "      <td>Ma-9:00</td>\n",
       "      <td>fis1</td>\n",
       "    </tr>\n",
       "    <tr>\n",
       "      <th>15</th>\n",
       "      <td>C201</td>\n",
       "      <td>Ma-10:00</td>\n",
       "      <td></td>\n",
       "    </tr>\n",
       "    <tr>\n",
       "      <th>16</th>\n",
       "      <td>C202</td>\n",
       "      <td>Ma-10:00</td>\n",
       "      <td></td>\n",
       "    </tr>\n",
       "    <tr>\n",
       "      <th>17</th>\n",
       "      <td>C203</td>\n",
       "      <td>Ma-10:00</td>\n",
       "      <td>fis1</td>\n",
       "    </tr>\n",
       "  </tbody>\n",
       "</table>\n",
       "</div>"
      ],
      "text/plain": [
       "    sala  dia-hora curso\n",
       "0   C201   Lu-8:00  mat1\n",
       "1   C202   Lu-8:00      \n",
       "2   C203   Lu-8:00  fis1\n",
       "3   C201   Lu-9:00  mat1\n",
       "4   C202   Lu-9:00      \n",
       "5   C203   Lu-9:00  fis1\n",
       "6   C201  Lu-10:00      \n",
       "7   C202  Lu-10:00      \n",
       "8   C203  Lu-10:00  fis1\n",
       "9   C201   Ma-8:00      \n",
       "10  C202   Ma-8:00  mat1\n",
       "11  C203   Ma-8:00  fis1\n",
       "12  C201   Ma-9:00      \n",
       "13  C202   Ma-9:00  mat1\n",
       "14  C203   Ma-9:00  fis1\n",
       "15  C201  Ma-10:00      \n",
       "16  C202  Ma-10:00      \n",
       "17  C203  Ma-10:00  fis1"
      ]
     },
     "execution_count": 41,
     "metadata": {},
     "output_type": "execute_result"
    }
   ],
   "source": [
    "df.melt(id_vars=[\"sala\"], # columnas identificadoras\n",
    "        var_name=\"dia-hora\",   # nueva variable\n",
    "        value_name=\"curso\")  # nombre de la columna para el valor de nueva variable"
   ]
  },
  {
   "cell_type": "code",
   "execution_count": 42,
   "metadata": {
    "slideshow": {
     "slide_type": "slide"
    }
   },
   "outputs": [
    {
     "data": {
      "text/html": [
       "<div>\n",
       "<style scoped>\n",
       "    .dataframe tbody tr th:only-of-type {\n",
       "        vertical-align: middle;\n",
       "    }\n",
       "\n",
       "    .dataframe tbody tr th {\n",
       "        vertical-align: top;\n",
       "    }\n",
       "\n",
       "    .dataframe thead th {\n",
       "        text-align: right;\n",
       "    }\n",
       "</style>\n",
       "<table border=\"1\" class=\"dataframe\">\n",
       "  <thead>\n",
       "    <tr style=\"text-align: right;\">\n",
       "      <th></th>\n",
       "      <th>sala</th>\n",
       "      <th>dia-hora</th>\n",
       "      <th>curso</th>\n",
       "    </tr>\n",
       "  </thead>\n",
       "  <tbody>\n",
       "    <tr>\n",
       "      <th>0</th>\n",
       "      <td>C201</td>\n",
       "      <td>Lu-8:00</td>\n",
       "      <td>mat1</td>\n",
       "    </tr>\n",
       "    <tr>\n",
       "      <th>1</th>\n",
       "      <td>C202</td>\n",
       "      <td>Lu-8:00</td>\n",
       "      <td></td>\n",
       "    </tr>\n",
       "    <tr>\n",
       "      <th>2</th>\n",
       "      <td>C203</td>\n",
       "      <td>Lu-8:00</td>\n",
       "      <td>fis1</td>\n",
       "    </tr>\n",
       "    <tr>\n",
       "      <th>3</th>\n",
       "      <td>C201</td>\n",
       "      <td>Lu-9:00</td>\n",
       "      <td>mat1</td>\n",
       "    </tr>\n",
       "    <tr>\n",
       "      <th>4</th>\n",
       "      <td>C202</td>\n",
       "      <td>Lu-9:00</td>\n",
       "      <td></td>\n",
       "    </tr>\n",
       "    <tr>\n",
       "      <th>5</th>\n",
       "      <td>C203</td>\n",
       "      <td>Lu-9:00</td>\n",
       "      <td>fis1</td>\n",
       "    </tr>\n",
       "    <tr>\n",
       "      <th>6</th>\n",
       "      <td>C201</td>\n",
       "      <td>Lu-10:00</td>\n",
       "      <td></td>\n",
       "    </tr>\n",
       "    <tr>\n",
       "      <th>7</th>\n",
       "      <td>C202</td>\n",
       "      <td>Lu-10:00</td>\n",
       "      <td></td>\n",
       "    </tr>\n",
       "    <tr>\n",
       "      <th>8</th>\n",
       "      <td>C203</td>\n",
       "      <td>Lu-10:00</td>\n",
       "      <td>fis1</td>\n",
       "    </tr>\n",
       "  </tbody>\n",
       "</table>\n",
       "</div>"
      ],
      "text/plain": [
       "   sala  dia-hora curso\n",
       "0  C201   Lu-8:00  mat1\n",
       "1  C202   Lu-8:00      \n",
       "2  C203   Lu-8:00  fis1\n",
       "3  C201   Lu-9:00  mat1\n",
       "4  C202   Lu-9:00      \n",
       "5  C203   Lu-9:00  fis1\n",
       "6  C201  Lu-10:00      \n",
       "7  C202  Lu-10:00      \n",
       "8  C203  Lu-10:00  fis1"
      ]
     },
     "execution_count": 42,
     "metadata": {},
     "output_type": "execute_result"
    }
   ],
   "source": [
    "df.melt(id_vars=[\"sala\"], # columnas identificadoras\n",
    "        value_vars=[\"Lu-8:00\",\"Lu-9:00\",\"Lu-10:00\"], # columnas a considerar\n",
    "        var_name=\"dia-hora\",   # nueva variable\n",
    "        value_name=\"curso\")  # nombre de la columna para el valor de nueva variable"
   ]
  },
  {
   "cell_type": "markdown",
   "metadata": {
    "slideshow": {
     "slide_type": "slide"
    }
   },
   "source": [
    "Si sabemos que queremos todas las columnas podemos des-pivotear y renombrar inmediatamente las columnas"
   ]
  },
  {
   "cell_type": "code",
   "execution_count": 43,
   "metadata": {
    "slideshow": {
     "slide_type": "-"
    }
   },
   "outputs": [
    {
     "data": {
      "text/html": [
       "<div>\n",
       "<style scoped>\n",
       "    .dataframe tbody tr th:only-of-type {\n",
       "        vertical-align: middle;\n",
       "    }\n",
       "\n",
       "    .dataframe tbody tr th {\n",
       "        vertical-align: top;\n",
       "    }\n",
       "\n",
       "    .dataframe thead th {\n",
       "        text-align: right;\n",
       "    }\n",
       "</style>\n",
       "<table border=\"1\" class=\"dataframe\">\n",
       "  <thead>\n",
       "    <tr style=\"text-align: right;\">\n",
       "      <th></th>\n",
       "      <th>sala</th>\n",
       "      <th>dia-hora</th>\n",
       "      <th>curso</th>\n",
       "    </tr>\n",
       "  </thead>\n",
       "  <tbody>\n",
       "    <tr>\n",
       "      <th>0</th>\n",
       "      <td>C201</td>\n",
       "      <td>Lu-8:00</td>\n",
       "      <td>mat1</td>\n",
       "    </tr>\n",
       "    <tr>\n",
       "      <th>3</th>\n",
       "      <td>C201</td>\n",
       "      <td>Lu-9:00</td>\n",
       "      <td>mat1</td>\n",
       "    </tr>\n",
       "    <tr>\n",
       "      <th>10</th>\n",
       "      <td>C202</td>\n",
       "      <td>Ma-8:00</td>\n",
       "      <td>mat1</td>\n",
       "    </tr>\n",
       "    <tr>\n",
       "      <th>13</th>\n",
       "      <td>C202</td>\n",
       "      <td>Ma-9:00</td>\n",
       "      <td>mat1</td>\n",
       "    </tr>\n",
       "    <tr>\n",
       "      <th>8</th>\n",
       "      <td>C203</td>\n",
       "      <td>Lu-10:00</td>\n",
       "      <td>fis1</td>\n",
       "    </tr>\n",
       "    <tr>\n",
       "      <th>2</th>\n",
       "      <td>C203</td>\n",
       "      <td>Lu-8:00</td>\n",
       "      <td>fis1</td>\n",
       "    </tr>\n",
       "    <tr>\n",
       "      <th>5</th>\n",
       "      <td>C203</td>\n",
       "      <td>Lu-9:00</td>\n",
       "      <td>fis1</td>\n",
       "    </tr>\n",
       "    <tr>\n",
       "      <th>17</th>\n",
       "      <td>C203</td>\n",
       "      <td>Ma-10:00</td>\n",
       "      <td>fis1</td>\n",
       "    </tr>\n",
       "    <tr>\n",
       "      <th>11</th>\n",
       "      <td>C203</td>\n",
       "      <td>Ma-8:00</td>\n",
       "      <td>fis1</td>\n",
       "    </tr>\n",
       "    <tr>\n",
       "      <th>14</th>\n",
       "      <td>C203</td>\n",
       "      <td>Ma-9:00</td>\n",
       "      <td>fis1</td>\n",
       "    </tr>\n",
       "  </tbody>\n",
       "</table>\n",
       "</div>"
      ],
      "text/plain": [
       "    sala  dia-hora curso\n",
       "0   C201   Lu-8:00  mat1\n",
       "3   C201   Lu-9:00  mat1\n",
       "10  C202   Ma-8:00  mat1\n",
       "13  C202   Ma-9:00  mat1\n",
       "8   C203  Lu-10:00  fis1\n",
       "2   C203   Lu-8:00  fis1\n",
       "5   C203   Lu-9:00  fis1\n",
       "17  C203  Ma-10:00  fis1\n",
       "11  C203   Ma-8:00  fis1\n",
       "14  C203   Ma-9:00  fis1"
      ]
     },
     "execution_count": 43,
     "metadata": {},
     "output_type": "execute_result"
    }
   ],
   "source": [
    "# Despivotear el dataframe, renombrando columna indexadora y de valor\n",
    "df_melt = df.melt(id_vars=[\"sala\"], var_name=\"dia-hora\", value_name=\"curso\")\n",
    "# Eliminar filas sin contenido y ordenarlas por nombre de sala y dia-hora.\n",
    "df_melt[df_melt.curso!=\"\"].sort_values([\"sala\",\"dia-hora\"])"
   ]
  },
  {
   "cell_type": "markdown",
   "metadata": {
    "slideshow": {
     "slide_type": "slide"
    }
   },
   "source": [
    "## 4. Despivoteando una tabla\n",
    "### 4.1 Valor único: definir las columnas necesarias\n",
    "Intentémoslo con un ejemplo más complejo"
   ]
  },
  {
   "cell_type": "code",
   "execution_count": 46,
   "metadata": {},
   "outputs": [],
   "source": [
    "import pandas as pd\n",
    "columns = [\"sala\",\"dia\",\"08:00\",\"09:00\",\"10:00\"]\n",
    "data = [\n",
    "        [\"C201\",\"Lu\", \"mat1\",\"mat1\",    \"\"],\n",
    "        [\"C201\",\"Ma\", \"\",\"\",\"\"],\n",
    "        [\"C202\",\"Lu\", \"\",\"\",\"\"],\n",
    "        [\"C202\",\"Ma\", \"mat1\",\"mat1\",    \"\"],\n",
    "        [\"C203\",\"Lu\", \"fis1\",\"fis1\",\"fis1\"],\n",
    "        [\"C203\",\"Ma\", \"fis1\",\"fis1\",\"fis1\"],\n",
    "       ]\n",
    "df = pd.DataFrame(data=data, columns=columns)"
   ]
  },
  {
   "cell_type": "code",
   "execution_count": 47,
   "metadata": {
    "slideshow": {
     "slide_type": "slide"
    }
   },
   "outputs": [
    {
     "data": {
      "text/html": [
       "<div>\n",
       "<style scoped>\n",
       "    .dataframe tbody tr th:only-of-type {\n",
       "        vertical-align: middle;\n",
       "    }\n",
       "\n",
       "    .dataframe tbody tr th {\n",
       "        vertical-align: top;\n",
       "    }\n",
       "\n",
       "    .dataframe thead th {\n",
       "        text-align: right;\n",
       "    }\n",
       "</style>\n",
       "<table border=\"1\" class=\"dataframe\">\n",
       "  <thead>\n",
       "    <tr style=\"text-align: right;\">\n",
       "      <th></th>\n",
       "      <th>sala</th>\n",
       "      <th>dia</th>\n",
       "      <th>08:00</th>\n",
       "      <th>09:00</th>\n",
       "      <th>10:00</th>\n",
       "    </tr>\n",
       "  </thead>\n",
       "  <tbody>\n",
       "    <tr>\n",
       "      <th>0</th>\n",
       "      <td>C201</td>\n",
       "      <td>Lu</td>\n",
       "      <td>mat1</td>\n",
       "      <td>mat1</td>\n",
       "      <td></td>\n",
       "    </tr>\n",
       "    <tr>\n",
       "      <th>1</th>\n",
       "      <td>C201</td>\n",
       "      <td>Ma</td>\n",
       "      <td></td>\n",
       "      <td></td>\n",
       "      <td></td>\n",
       "    </tr>\n",
       "    <tr>\n",
       "      <th>2</th>\n",
       "      <td>C202</td>\n",
       "      <td>Lu</td>\n",
       "      <td></td>\n",
       "      <td></td>\n",
       "      <td></td>\n",
       "    </tr>\n",
       "    <tr>\n",
       "      <th>3</th>\n",
       "      <td>C202</td>\n",
       "      <td>Ma</td>\n",
       "      <td>mat1</td>\n",
       "      <td>mat1</td>\n",
       "      <td></td>\n",
       "    </tr>\n",
       "    <tr>\n",
       "      <th>4</th>\n",
       "      <td>C203</td>\n",
       "      <td>Lu</td>\n",
       "      <td>fis1</td>\n",
       "      <td>fis1</td>\n",
       "      <td>fis1</td>\n",
       "    </tr>\n",
       "    <tr>\n",
       "      <th>5</th>\n",
       "      <td>C203</td>\n",
       "      <td>Ma</td>\n",
       "      <td>fis1</td>\n",
       "      <td>fis1</td>\n",
       "      <td>fis1</td>\n",
       "    </tr>\n",
       "  </tbody>\n",
       "</table>\n",
       "</div>"
      ],
      "text/plain": [
       "   sala dia 08:00 09:00 10:00\n",
       "0  C201  Lu  mat1  mat1      \n",
       "1  C201  Ma                  \n",
       "2  C202  Lu                  \n",
       "3  C202  Ma  mat1  mat1      \n",
       "4  C203  Lu  fis1  fis1  fis1\n",
       "5  C203  Ma  fis1  fis1  fis1"
      ]
     },
     "execution_count": 47,
     "metadata": {},
     "output_type": "execute_result"
    }
   ],
   "source": [
    "df"
   ]
  },
  {
   "cell_type": "code",
   "execution_count": 48,
   "metadata": {
    "slideshow": {
     "slide_type": "slide"
    }
   },
   "outputs": [
    {
     "data": {
      "text/html": [
       "<div>\n",
       "<style scoped>\n",
       "    .dataframe tbody tr th:only-of-type {\n",
       "        vertical-align: middle;\n",
       "    }\n",
       "\n",
       "    .dataframe tbody tr th {\n",
       "        vertical-align: top;\n",
       "    }\n",
       "\n",
       "    .dataframe thead th {\n",
       "        text-align: right;\n",
       "    }\n",
       "</style>\n",
       "<table border=\"1\" class=\"dataframe\">\n",
       "  <thead>\n",
       "    <tr style=\"text-align: right;\">\n",
       "      <th></th>\n",
       "      <th>sala</th>\n",
       "      <th>hora</th>\n",
       "      <th>curso</th>\n",
       "    </tr>\n",
       "  </thead>\n",
       "  <tbody>\n",
       "    <tr>\n",
       "      <th>0</th>\n",
       "      <td>C201</td>\n",
       "      <td>dia</td>\n",
       "      <td>Lu</td>\n",
       "    </tr>\n",
       "    <tr>\n",
       "      <th>1</th>\n",
       "      <td>C201</td>\n",
       "      <td>dia</td>\n",
       "      <td>Ma</td>\n",
       "    </tr>\n",
       "    <tr>\n",
       "      <th>2</th>\n",
       "      <td>C202</td>\n",
       "      <td>dia</td>\n",
       "      <td>Lu</td>\n",
       "    </tr>\n",
       "    <tr>\n",
       "      <th>3</th>\n",
       "      <td>C202</td>\n",
       "      <td>dia</td>\n",
       "      <td>Ma</td>\n",
       "    </tr>\n",
       "    <tr>\n",
       "      <th>4</th>\n",
       "      <td>C203</td>\n",
       "      <td>dia</td>\n",
       "      <td>Lu</td>\n",
       "    </tr>\n",
       "    <tr>\n",
       "      <th>5</th>\n",
       "      <td>C203</td>\n",
       "      <td>dia</td>\n",
       "      <td>Ma</td>\n",
       "    </tr>\n",
       "    <tr>\n",
       "      <th>6</th>\n",
       "      <td>C201</td>\n",
       "      <td>08:00</td>\n",
       "      <td>mat1</td>\n",
       "    </tr>\n",
       "    <tr>\n",
       "      <th>7</th>\n",
       "      <td>C201</td>\n",
       "      <td>08:00</td>\n",
       "      <td></td>\n",
       "    </tr>\n",
       "    <tr>\n",
       "      <th>8</th>\n",
       "      <td>C202</td>\n",
       "      <td>08:00</td>\n",
       "      <td></td>\n",
       "    </tr>\n",
       "    <tr>\n",
       "      <th>9</th>\n",
       "      <td>C202</td>\n",
       "      <td>08:00</td>\n",
       "      <td>mat1</td>\n",
       "    </tr>\n",
       "    <tr>\n",
       "      <th>10</th>\n",
       "      <td>C203</td>\n",
       "      <td>08:00</td>\n",
       "      <td>fis1</td>\n",
       "    </tr>\n",
       "    <tr>\n",
       "      <th>11</th>\n",
       "      <td>C203</td>\n",
       "      <td>08:00</td>\n",
       "      <td>fis1</td>\n",
       "    </tr>\n",
       "    <tr>\n",
       "      <th>12</th>\n",
       "      <td>C201</td>\n",
       "      <td>09:00</td>\n",
       "      <td>mat1</td>\n",
       "    </tr>\n",
       "    <tr>\n",
       "      <th>13</th>\n",
       "      <td>C201</td>\n",
       "      <td>09:00</td>\n",
       "      <td></td>\n",
       "    </tr>\n",
       "    <tr>\n",
       "      <th>14</th>\n",
       "      <td>C202</td>\n",
       "      <td>09:00</td>\n",
       "      <td></td>\n",
       "    </tr>\n",
       "    <tr>\n",
       "      <th>15</th>\n",
       "      <td>C202</td>\n",
       "      <td>09:00</td>\n",
       "      <td>mat1</td>\n",
       "    </tr>\n",
       "    <tr>\n",
       "      <th>16</th>\n",
       "      <td>C203</td>\n",
       "      <td>09:00</td>\n",
       "      <td>fis1</td>\n",
       "    </tr>\n",
       "    <tr>\n",
       "      <th>17</th>\n",
       "      <td>C203</td>\n",
       "      <td>09:00</td>\n",
       "      <td>fis1</td>\n",
       "    </tr>\n",
       "    <tr>\n",
       "      <th>18</th>\n",
       "      <td>C201</td>\n",
       "      <td>10:00</td>\n",
       "      <td></td>\n",
       "    </tr>\n",
       "    <tr>\n",
       "      <th>19</th>\n",
       "      <td>C201</td>\n",
       "      <td>10:00</td>\n",
       "      <td></td>\n",
       "    </tr>\n",
       "    <tr>\n",
       "      <th>20</th>\n",
       "      <td>C202</td>\n",
       "      <td>10:00</td>\n",
       "      <td></td>\n",
       "    </tr>\n",
       "    <tr>\n",
       "      <th>21</th>\n",
       "      <td>C202</td>\n",
       "      <td>10:00</td>\n",
       "      <td></td>\n",
       "    </tr>\n",
       "    <tr>\n",
       "      <th>22</th>\n",
       "      <td>C203</td>\n",
       "      <td>10:00</td>\n",
       "      <td>fis1</td>\n",
       "    </tr>\n",
       "    <tr>\n",
       "      <th>23</th>\n",
       "      <td>C203</td>\n",
       "      <td>10:00</td>\n",
       "      <td>fis1</td>\n",
       "    </tr>\n",
       "  </tbody>\n",
       "</table>\n",
       "</div>"
      ],
      "text/plain": [
       "    sala   hora curso\n",
       "0   C201    dia    Lu\n",
       "1   C201    dia    Ma\n",
       "2   C202    dia    Lu\n",
       "3   C202    dia    Ma\n",
       "4   C203    dia    Lu\n",
       "5   C203    dia    Ma\n",
       "6   C201  08:00  mat1\n",
       "7   C201  08:00      \n",
       "8   C202  08:00      \n",
       "9   C202  08:00  mat1\n",
       "10  C203  08:00  fis1\n",
       "11  C203  08:00  fis1\n",
       "12  C201  09:00  mat1\n",
       "13  C201  09:00      \n",
       "14  C202  09:00      \n",
       "15  C202  09:00  mat1\n",
       "16  C203  09:00  fis1\n",
       "17  C203  09:00  fis1\n",
       "18  C201  10:00      \n",
       "19  C201  10:00      \n",
       "20  C202  10:00      \n",
       "21  C202  10:00      \n",
       "22  C203  10:00  fis1\n",
       "23  C203  10:00  fis1"
      ]
     },
     "execution_count": 48,
     "metadata": {},
     "output_type": "execute_result"
    }
   ],
   "source": [
    "# Despivotear incorrectamente la tabla\n",
    "df.melt(id_vars=[\"sala\"], var_name=\"hora\", value_name=\"curso\")"
   ]
  },
  {
   "cell_type": "code",
   "execution_count": 49,
   "metadata": {
    "slideshow": {
     "slide_type": "slide"
    }
   },
   "outputs": [
    {
     "data": {
      "text/html": [
       "<div>\n",
       "<style scoped>\n",
       "    .dataframe tbody tr th:only-of-type {\n",
       "        vertical-align: middle;\n",
       "    }\n",
       "\n",
       "    .dataframe tbody tr th {\n",
       "        vertical-align: top;\n",
       "    }\n",
       "\n",
       "    .dataframe thead th {\n",
       "        text-align: right;\n",
       "    }\n",
       "</style>\n",
       "<table border=\"1\" class=\"dataframe\">\n",
       "  <thead>\n",
       "    <tr style=\"text-align: right;\">\n",
       "      <th></th>\n",
       "      <th>sala</th>\n",
       "      <th>dia</th>\n",
       "      <th>hora</th>\n",
       "      <th>curso</th>\n",
       "    </tr>\n",
       "  </thead>\n",
       "  <tbody>\n",
       "    <tr>\n",
       "      <th>0</th>\n",
       "      <td>C201</td>\n",
       "      <td>Lu</td>\n",
       "      <td>08:00</td>\n",
       "      <td>mat1</td>\n",
       "    </tr>\n",
       "    <tr>\n",
       "      <th>1</th>\n",
       "      <td>C201</td>\n",
       "      <td>Ma</td>\n",
       "      <td>08:00</td>\n",
       "      <td></td>\n",
       "    </tr>\n",
       "    <tr>\n",
       "      <th>2</th>\n",
       "      <td>C202</td>\n",
       "      <td>Lu</td>\n",
       "      <td>08:00</td>\n",
       "      <td></td>\n",
       "    </tr>\n",
       "    <tr>\n",
       "      <th>3</th>\n",
       "      <td>C202</td>\n",
       "      <td>Ma</td>\n",
       "      <td>08:00</td>\n",
       "      <td>mat1</td>\n",
       "    </tr>\n",
       "    <tr>\n",
       "      <th>4</th>\n",
       "      <td>C203</td>\n",
       "      <td>Lu</td>\n",
       "      <td>08:00</td>\n",
       "      <td>fis1</td>\n",
       "    </tr>\n",
       "    <tr>\n",
       "      <th>5</th>\n",
       "      <td>C203</td>\n",
       "      <td>Ma</td>\n",
       "      <td>08:00</td>\n",
       "      <td>fis1</td>\n",
       "    </tr>\n",
       "    <tr>\n",
       "      <th>6</th>\n",
       "      <td>C201</td>\n",
       "      <td>Lu</td>\n",
       "      <td>09:00</td>\n",
       "      <td>mat1</td>\n",
       "    </tr>\n",
       "    <tr>\n",
       "      <th>7</th>\n",
       "      <td>C201</td>\n",
       "      <td>Ma</td>\n",
       "      <td>09:00</td>\n",
       "      <td></td>\n",
       "    </tr>\n",
       "    <tr>\n",
       "      <th>8</th>\n",
       "      <td>C202</td>\n",
       "      <td>Lu</td>\n",
       "      <td>09:00</td>\n",
       "      <td></td>\n",
       "    </tr>\n",
       "    <tr>\n",
       "      <th>9</th>\n",
       "      <td>C202</td>\n",
       "      <td>Ma</td>\n",
       "      <td>09:00</td>\n",
       "      <td>mat1</td>\n",
       "    </tr>\n",
       "    <tr>\n",
       "      <th>10</th>\n",
       "      <td>C203</td>\n",
       "      <td>Lu</td>\n",
       "      <td>09:00</td>\n",
       "      <td>fis1</td>\n",
       "    </tr>\n",
       "    <tr>\n",
       "      <th>11</th>\n",
       "      <td>C203</td>\n",
       "      <td>Ma</td>\n",
       "      <td>09:00</td>\n",
       "      <td>fis1</td>\n",
       "    </tr>\n",
       "    <tr>\n",
       "      <th>12</th>\n",
       "      <td>C201</td>\n",
       "      <td>Lu</td>\n",
       "      <td>10:00</td>\n",
       "      <td></td>\n",
       "    </tr>\n",
       "    <tr>\n",
       "      <th>13</th>\n",
       "      <td>C201</td>\n",
       "      <td>Ma</td>\n",
       "      <td>10:00</td>\n",
       "      <td></td>\n",
       "    </tr>\n",
       "    <tr>\n",
       "      <th>14</th>\n",
       "      <td>C202</td>\n",
       "      <td>Lu</td>\n",
       "      <td>10:00</td>\n",
       "      <td></td>\n",
       "    </tr>\n",
       "    <tr>\n",
       "      <th>15</th>\n",
       "      <td>C202</td>\n",
       "      <td>Ma</td>\n",
       "      <td>10:00</td>\n",
       "      <td></td>\n",
       "    </tr>\n",
       "    <tr>\n",
       "      <th>16</th>\n",
       "      <td>C203</td>\n",
       "      <td>Lu</td>\n",
       "      <td>10:00</td>\n",
       "      <td>fis1</td>\n",
       "    </tr>\n",
       "    <tr>\n",
       "      <th>17</th>\n",
       "      <td>C203</td>\n",
       "      <td>Ma</td>\n",
       "      <td>10:00</td>\n",
       "      <td>fis1</td>\n",
       "    </tr>\n",
       "  </tbody>\n",
       "</table>\n",
       "</div>"
      ],
      "text/plain": [
       "    sala dia   hora curso\n",
       "0   C201  Lu  08:00  mat1\n",
       "1   C201  Ma  08:00      \n",
       "2   C202  Lu  08:00      \n",
       "3   C202  Ma  08:00  mat1\n",
       "4   C203  Lu  08:00  fis1\n",
       "5   C203  Ma  08:00  fis1\n",
       "6   C201  Lu  09:00  mat1\n",
       "7   C201  Ma  09:00      \n",
       "8   C202  Lu  09:00      \n",
       "9   C202  Ma  09:00  mat1\n",
       "10  C203  Lu  09:00  fis1\n",
       "11  C203  Ma  09:00  fis1\n",
       "12  C201  Lu  10:00      \n",
       "13  C201  Ma  10:00      \n",
       "14  C202  Lu  10:00      \n",
       "15  C202  Ma  10:00      \n",
       "16  C203  Lu  10:00  fis1\n",
       "17  C203  Ma  10:00  fis1"
      ]
     },
     "execution_count": 49,
     "metadata": {},
     "output_type": "execute_result"
    }
   ],
   "source": [
    "# Despivotear correctamente la tabla\n",
    "df.melt(id_vars=[\"sala\", \"dia\"], var_name=\"hora\", value_name=\"curso\")"
   ]
  },
  {
   "cell_type": "code",
   "execution_count": 53,
   "metadata": {
    "slideshow": {
     "slide_type": "slide"
    }
   },
   "outputs": [
    {
     "data": {
      "text/html": [
       "<div>\n",
       "<style scoped>\n",
       "    .dataframe tbody tr th:only-of-type {\n",
       "        vertical-align: middle;\n",
       "    }\n",
       "\n",
       "    .dataframe tbody tr th {\n",
       "        vertical-align: top;\n",
       "    }\n",
       "\n",
       "    .dataframe thead th {\n",
       "        text-align: right;\n",
       "    }\n",
       "</style>\n",
       "<table border=\"1\" class=\"dataframe\">\n",
       "  <thead>\n",
       "    <tr style=\"text-align: right;\">\n",
       "      <th></th>\n",
       "      <th>sala</th>\n",
       "      <th>dia</th>\n",
       "      <th>hora</th>\n",
       "      <th>curso</th>\n",
       "    </tr>\n",
       "  </thead>\n",
       "  <tbody>\n",
       "    <tr>\n",
       "      <th>0</th>\n",
       "      <td>C201</td>\n",
       "      <td>Lu</td>\n",
       "      <td>08:00</td>\n",
       "      <td>mat1</td>\n",
       "    </tr>\n",
       "    <tr>\n",
       "      <th>6</th>\n",
       "      <td>C201</td>\n",
       "      <td>Lu</td>\n",
       "      <td>09:00</td>\n",
       "      <td>mat1</td>\n",
       "    </tr>\n",
       "    <tr>\n",
       "      <th>3</th>\n",
       "      <td>C202</td>\n",
       "      <td>Ma</td>\n",
       "      <td>08:00</td>\n",
       "      <td>mat1</td>\n",
       "    </tr>\n",
       "    <tr>\n",
       "      <th>9</th>\n",
       "      <td>C202</td>\n",
       "      <td>Ma</td>\n",
       "      <td>09:00</td>\n",
       "      <td>mat1</td>\n",
       "    </tr>\n",
       "    <tr>\n",
       "      <th>4</th>\n",
       "      <td>C203</td>\n",
       "      <td>Lu</td>\n",
       "      <td>08:00</td>\n",
       "      <td>fis1</td>\n",
       "    </tr>\n",
       "    <tr>\n",
       "      <th>10</th>\n",
       "      <td>C203</td>\n",
       "      <td>Lu</td>\n",
       "      <td>09:00</td>\n",
       "      <td>fis1</td>\n",
       "    </tr>\n",
       "    <tr>\n",
       "      <th>16</th>\n",
       "      <td>C203</td>\n",
       "      <td>Lu</td>\n",
       "      <td>10:00</td>\n",
       "      <td>fis1</td>\n",
       "    </tr>\n",
       "    <tr>\n",
       "      <th>5</th>\n",
       "      <td>C203</td>\n",
       "      <td>Ma</td>\n",
       "      <td>08:00</td>\n",
       "      <td>fis1</td>\n",
       "    </tr>\n",
       "    <tr>\n",
       "      <th>11</th>\n",
       "      <td>C203</td>\n",
       "      <td>Ma</td>\n",
       "      <td>09:00</td>\n",
       "      <td>fis1</td>\n",
       "    </tr>\n",
       "    <tr>\n",
       "      <th>17</th>\n",
       "      <td>C203</td>\n",
       "      <td>Ma</td>\n",
       "      <td>10:00</td>\n",
       "      <td>fis1</td>\n",
       "    </tr>\n",
       "  </tbody>\n",
       "</table>\n",
       "</div>"
      ],
      "text/plain": [
       "    sala dia   hora curso\n",
       "0   C201  Lu  08:00  mat1\n",
       "6   C201  Lu  09:00  mat1\n",
       "3   C202  Ma  08:00  mat1\n",
       "9   C202  Ma  09:00  mat1\n",
       "4   C203  Lu  08:00  fis1\n",
       "10  C203  Lu  09:00  fis1\n",
       "16  C203  Lu  10:00  fis1\n",
       "5   C203  Ma  08:00  fis1\n",
       "11  C203  Ma  09:00  fis1\n",
       "17  C203  Ma  10:00  fis1"
      ]
     },
     "execution_count": 53,
     "metadata": {},
     "output_type": "execute_result"
    }
   ],
   "source": [
    "# Despivotear correctamente la tabla\n",
    "df_melt = df.melt(id_vars=[\"sala\", \"dia\"], var_name=\"hora\", value_name=\"curso\")\n",
    "df_melt[df_melt.curso!=\"\"].sort_values([\"sala\",\"dia\",\"hora\"])"
   ]
  },
  {
   "cell_type": "markdown",
   "metadata": {
    "slideshow": {
     "slide_type": "slide"
    }
   },
   "source": [
    "## 4. Despivoteando una tabla\n",
    "### 4.1 Relaciones no únicas\n",
    "Consideremos el siguiente ejemplo:"
   ]
  },
  {
   "cell_type": "code",
   "execution_count": 54,
   "metadata": {},
   "outputs": [],
   "source": [
    "import pandas as pd\n",
    "columns = [\"sala\",\"curso\",\"Lu\",\"Ma\",\"hora\"]\n",
    "data = [\n",
    "        [\"C201\",\"mat1\",\"X\",\"\",\"8:00-10:00\"],\n",
    "        [\"C202\",\"mat1\",\"\",\"X\",\"8:00-10:00\"],\n",
    "        [\"C203\",\"fis1\",\"X\",\"X\",\"8:00-11:00\"],\n",
    "       ]\n",
    "df = pd.DataFrame(data=data, columns=columns)"
   ]
  },
  {
   "cell_type": "code",
   "execution_count": 36,
   "metadata": {
    "slideshow": {
     "slide_type": "slide"
    }
   },
   "outputs": [
    {
     "data": {
      "text/html": [
       "<div>\n",
       "<style scoped>\n",
       "    .dataframe tbody tr th:only-of-type {\n",
       "        vertical-align: middle;\n",
       "    }\n",
       "\n",
       "    .dataframe tbody tr th {\n",
       "        vertical-align: top;\n",
       "    }\n",
       "\n",
       "    .dataframe thead th {\n",
       "        text-align: right;\n",
       "    }\n",
       "</style>\n",
       "<table border=\"1\" class=\"dataframe\">\n",
       "  <thead>\n",
       "    <tr style=\"text-align: right;\">\n",
       "      <th></th>\n",
       "      <th>sala</th>\n",
       "      <th>curso</th>\n",
       "      <th>Lu</th>\n",
       "      <th>Ma</th>\n",
       "      <th>hora</th>\n",
       "    </tr>\n",
       "  </thead>\n",
       "  <tbody>\n",
       "    <tr>\n",
       "      <th>0</th>\n",
       "      <td>C201</td>\n",
       "      <td>mat1</td>\n",
       "      <td>X</td>\n",
       "      <td></td>\n",
       "      <td>8:00-10:00</td>\n",
       "    </tr>\n",
       "    <tr>\n",
       "      <th>1</th>\n",
       "      <td>C202</td>\n",
       "      <td>mat1</td>\n",
       "      <td></td>\n",
       "      <td>X</td>\n",
       "      <td>8:00-10:00</td>\n",
       "    </tr>\n",
       "    <tr>\n",
       "      <th>2</th>\n",
       "      <td>C203</td>\n",
       "      <td>fis1</td>\n",
       "      <td>X</td>\n",
       "      <td>X</td>\n",
       "      <td>8:00-11:00</td>\n",
       "    </tr>\n",
       "  </tbody>\n",
       "</table>\n",
       "</div>"
      ],
      "text/plain": [
       "   sala curso Lu Ma        hora\n",
       "0  C201  mat1  X     8:00-10:00\n",
       "1  C202  mat1     X  8:00-10:00\n",
       "2  C203  fis1  X  X  8:00-11:00"
      ]
     },
     "execution_count": 36,
     "metadata": {},
     "output_type": "execute_result"
    }
   ],
   "source": [
    "df"
   ]
  },
  {
   "cell_type": "markdown",
   "metadata": {
    "slideshow": {
     "slide_type": "slide"
    }
   },
   "source": [
    "¿Cómo podríamos des-pivotear la tabla anterior?"
   ]
  },
  {
   "cell_type": "markdown",
   "metadata": {
    "slideshow": {
     "slide_type": "fragment"
    }
   },
   "source": [
    "No existe un camino único. Dependiendo de la complejidad de la operación podrían haber soluciones más faciles."
   ]
  },
  {
   "cell_type": "code",
   "execution_count": 64,
   "metadata": {
    "slideshow": {
     "slide_type": "slide"
    }
   },
   "outputs": [
    {
     "data": {
      "text/html": [
       "<div>\n",
       "<style scoped>\n",
       "    .dataframe tbody tr th:only-of-type {\n",
       "        vertical-align: middle;\n",
       "    }\n",
       "\n",
       "    .dataframe tbody tr th {\n",
       "        vertical-align: top;\n",
       "    }\n",
       "\n",
       "    .dataframe thead th {\n",
       "        text-align: right;\n",
       "    }\n",
       "</style>\n",
       "<table border=\"1\" class=\"dataframe\">\n",
       "  <thead>\n",
       "    <tr style=\"text-align: right;\">\n",
       "      <th></th>\n",
       "      <th>sala</th>\n",
       "      <th>curso</th>\n",
       "      <th>hora</th>\n",
       "      <th>dia</th>\n",
       "    </tr>\n",
       "  </thead>\n",
       "  <tbody>\n",
       "    <tr>\n",
       "      <th>0</th>\n",
       "      <td>C201</td>\n",
       "      <td>mat1</td>\n",
       "      <td>8:00-10:00</td>\n",
       "      <td>Lu</td>\n",
       "    </tr>\n",
       "    <tr>\n",
       "      <th>2</th>\n",
       "      <td>C203</td>\n",
       "      <td>fis1</td>\n",
       "      <td>8:00-11:00</td>\n",
       "      <td>Lu</td>\n",
       "    </tr>\n",
       "  </tbody>\n",
       "</table>\n",
       "</div>"
      ],
      "text/plain": [
       "   sala curso        hora dia\n",
       "0  C201  mat1  8:00-10:00  Lu\n",
       "2  C203  fis1  8:00-11:00  Lu"
      ]
     },
     "execution_count": 64,
     "metadata": {},
     "output_type": "execute_result"
    }
   ],
   "source": [
    "# Idea 1: Despivotear manualmente, si se puede.\n",
    "df_Lu = df.loc[df.Lu==\"X\", [\"sala\",\"curso\",\"hora\"]]\n",
    "df_Lu[\"dia\"] = \"Lu\"\n",
    "df_Lu"
   ]
  },
  {
   "cell_type": "code",
   "execution_count": 65,
   "metadata": {
    "slideshow": {
     "slide_type": "slide"
    }
   },
   "outputs": [
    {
     "data": {
      "text/html": [
       "<div>\n",
       "<style scoped>\n",
       "    .dataframe tbody tr th:only-of-type {\n",
       "        vertical-align: middle;\n",
       "    }\n",
       "\n",
       "    .dataframe tbody tr th {\n",
       "        vertical-align: top;\n",
       "    }\n",
       "\n",
       "    .dataframe thead th {\n",
       "        text-align: right;\n",
       "    }\n",
       "</style>\n",
       "<table border=\"1\" class=\"dataframe\">\n",
       "  <thead>\n",
       "    <tr style=\"text-align: right;\">\n",
       "      <th></th>\n",
       "      <th>sala</th>\n",
       "      <th>curso</th>\n",
       "      <th>hora</th>\n",
       "      <th>dia</th>\n",
       "    </tr>\n",
       "  </thead>\n",
       "  <tbody>\n",
       "    <tr>\n",
       "      <th>1</th>\n",
       "      <td>C202</td>\n",
       "      <td>mat1</td>\n",
       "      <td>8:00-10:00</td>\n",
       "      <td>Ma</td>\n",
       "    </tr>\n",
       "    <tr>\n",
       "      <th>2</th>\n",
       "      <td>C203</td>\n",
       "      <td>fis1</td>\n",
       "      <td>8:00-11:00</td>\n",
       "      <td>Ma</td>\n",
       "    </tr>\n",
       "  </tbody>\n",
       "</table>\n",
       "</div>"
      ],
      "text/plain": [
       "   sala curso        hora dia\n",
       "1  C202  mat1  8:00-10:00  Ma\n",
       "2  C203  fis1  8:00-11:00  Ma"
      ]
     },
     "execution_count": 65,
     "metadata": {},
     "output_type": "execute_result"
    }
   ],
   "source": [
    "df_Ma = df.loc[df.Ma==\"X\", [\"sala\",\"curso\",\"hora\"]]\n",
    "df_Ma[\"dia\"] = \"Ma\"\n",
    "df_Ma"
   ]
  },
  {
   "cell_type": "code",
   "execution_count": 66,
   "metadata": {},
   "outputs": [
    {
     "data": {
      "text/html": [
       "<div>\n",
       "<style scoped>\n",
       "    .dataframe tbody tr th:only-of-type {\n",
       "        vertical-align: middle;\n",
       "    }\n",
       "\n",
       "    .dataframe tbody tr th {\n",
       "        vertical-align: top;\n",
       "    }\n",
       "\n",
       "    .dataframe thead th {\n",
       "        text-align: right;\n",
       "    }\n",
       "</style>\n",
       "<table border=\"1\" class=\"dataframe\">\n",
       "  <thead>\n",
       "    <tr style=\"text-align: right;\">\n",
       "      <th></th>\n",
       "      <th>sala</th>\n",
       "      <th>curso</th>\n",
       "      <th>hora</th>\n",
       "      <th>dia</th>\n",
       "    </tr>\n",
       "  </thead>\n",
       "  <tbody>\n",
       "    <tr>\n",
       "      <th>0</th>\n",
       "      <td>C201</td>\n",
       "      <td>mat1</td>\n",
       "      <td>8:00-10:00</td>\n",
       "      <td>Lu</td>\n",
       "    </tr>\n",
       "    <tr>\n",
       "      <th>2</th>\n",
       "      <td>C203</td>\n",
       "      <td>fis1</td>\n",
       "      <td>8:00-11:00</td>\n",
       "      <td>Lu</td>\n",
       "    </tr>\n",
       "    <tr>\n",
       "      <th>1</th>\n",
       "      <td>C202</td>\n",
       "      <td>mat1</td>\n",
       "      <td>8:00-10:00</td>\n",
       "      <td>Ma</td>\n",
       "    </tr>\n",
       "    <tr>\n",
       "      <th>2</th>\n",
       "      <td>C203</td>\n",
       "      <td>fis1</td>\n",
       "      <td>8:00-11:00</td>\n",
       "      <td>Ma</td>\n",
       "    </tr>\n",
       "  </tbody>\n",
       "</table>\n",
       "</div>"
      ],
      "text/plain": [
       "   sala curso        hora dia\n",
       "0  C201  mat1  8:00-10:00  Lu\n",
       "2  C203  fis1  8:00-11:00  Lu\n",
       "1  C202  mat1  8:00-10:00  Ma\n",
       "2  C203  fis1  8:00-11:00  Ma"
      ]
     },
     "execution_count": 66,
     "metadata": {},
     "output_type": "execute_result"
    }
   ],
   "source": [
    "pd.concat([df_Lu,df_Ma])"
   ]
  },
  {
   "cell_type": "markdown",
   "metadata": {
    "slideshow": {
     "slide_type": "slide"
    }
   },
   "source": [
    "#### Idea 2: \n",
    "Iterar sobre las filas y generar contenido para un nuevo dataframe.\n",
    "* **Ventajas**: En general, fácil de codificar.\n",
    "* **Desventaja**: puede ser lento, es ineficiente."
   ]
  },
  {
   "cell_type": "code",
   "execution_count": 67,
   "metadata": {},
   "outputs": [
    {
     "name": "stdout",
     "output_type": "stream",
     "text": [
      "C201 mat1 X  8:00-10:00\n",
      "C202 mat1  X 8:00-10:00\n",
      "C203 fis1 X X 8:00-11:00\n"
     ]
    }
   ],
   "source": [
    "for i, row in df.iterrows():\n",
    "    # Procesar cada fila\n",
    "    print(row.sala, row.curso, row.Lu, row.Ma, row.hora)"
   ]
  },
  {
   "cell_type": "code",
   "execution_count": 71,
   "metadata": {
    "slideshow": {
     "slide_type": "slide"
    }
   },
   "outputs": [
    {
     "data": {
      "text/html": [
       "<div>\n",
       "<style scoped>\n",
       "    .dataframe tbody tr th:only-of-type {\n",
       "        vertical-align: middle;\n",
       "    }\n",
       "\n",
       "    .dataframe tbody tr th {\n",
       "        vertical-align: top;\n",
       "    }\n",
       "\n",
       "    .dataframe thead th {\n",
       "        text-align: right;\n",
       "    }\n",
       "</style>\n",
       "<table border=\"1\" class=\"dataframe\">\n",
       "  <thead>\n",
       "    <tr style=\"text-align: right;\">\n",
       "      <th></th>\n",
       "      <th>sala</th>\n",
       "      <th>curso</th>\n",
       "      <th>dia</th>\n",
       "      <th>hora</th>\n",
       "    </tr>\n",
       "  </thead>\n",
       "  <tbody>\n",
       "    <tr>\n",
       "      <th>0</th>\n",
       "      <td>C201</td>\n",
       "      <td>mat1</td>\n",
       "      <td>Lu</td>\n",
       "      <td>8:00-10:00</td>\n",
       "    </tr>\n",
       "    <tr>\n",
       "      <th>1</th>\n",
       "      <td>C202</td>\n",
       "      <td>mat1</td>\n",
       "      <td>Ma</td>\n",
       "      <td>8:00-10:00</td>\n",
       "    </tr>\n",
       "    <tr>\n",
       "      <th>2</th>\n",
       "      <td>C203</td>\n",
       "      <td>fis1</td>\n",
       "      <td>Lu</td>\n",
       "      <td>8:00-11:00</td>\n",
       "    </tr>\n",
       "    <tr>\n",
       "      <th>3</th>\n",
       "      <td>C203</td>\n",
       "      <td>fis1</td>\n",
       "      <td>Ma</td>\n",
       "      <td>8:00-11:00</td>\n",
       "    </tr>\n",
       "  </tbody>\n",
       "</table>\n",
       "</div>"
      ],
      "text/plain": [
       "   sala curso dia        hora\n",
       "0  C201  mat1  Lu  8:00-10:00\n",
       "1  C202  mat1  Ma  8:00-10:00\n",
       "2  C203  fis1  Lu  8:00-11:00\n",
       "3  C203  fis1  Ma  8:00-11:00"
      ]
     },
     "execution_count": 71,
     "metadata": {},
     "output_type": "execute_result"
    }
   ],
   "source": [
    "my_columns = [\"sala\",\"curso\",\"dia\",\"hora\"]\n",
    "my_data = []\n",
    "for i, df_row in df.iterrows():\n",
    "    # Procesar cada fila\n",
    "    if df_row.Lu==\"X\":\n",
    "        my_row = [df_row.sala, df_row.curso, \"Lu\", df_row.hora]\n",
    "        my_data.append(my_row)\n",
    "    if df_row.Ma==\"X\":\n",
    "        my_row = [df_row.sala, df_row.curso, \"Ma\", df_row.hora]\n",
    "        my_data.append(my_row)\n",
    "new_df = pd.DataFrame(data=my_data, columns=my_columns)\n",
    "new_df"
   ]
  },
  {
   "cell_type": "code",
   "execution_count": 72,
   "metadata": {
    "slideshow": {
     "slide_type": "slide"
    }
   },
   "outputs": [
    {
     "data": {
      "text/html": [
       "<div>\n",
       "<style scoped>\n",
       "    .dataframe tbody tr th:only-of-type {\n",
       "        vertical-align: middle;\n",
       "    }\n",
       "\n",
       "    .dataframe tbody tr th {\n",
       "        vertical-align: top;\n",
       "    }\n",
       "\n",
       "    .dataframe thead th {\n",
       "        text-align: right;\n",
       "    }\n",
       "</style>\n",
       "<table border=\"1\" class=\"dataframe\">\n",
       "  <thead>\n",
       "    <tr style=\"text-align: right;\">\n",
       "      <th></th>\n",
       "      <th>sala</th>\n",
       "      <th>curso</th>\n",
       "      <th>dia</th>\n",
       "      <th>hora</th>\n",
       "    </tr>\n",
       "  </thead>\n",
       "  <tbody>\n",
       "    <tr>\n",
       "      <th>0</th>\n",
       "      <td>C201</td>\n",
       "      <td>mat1</td>\n",
       "      <td>Lu</td>\n",
       "      <td>8:00-10:00</td>\n",
       "    </tr>\n",
       "    <tr>\n",
       "      <th>1</th>\n",
       "      <td>C202</td>\n",
       "      <td>mat1</td>\n",
       "      <td>Ma</td>\n",
       "      <td>8:00-10:00</td>\n",
       "    </tr>\n",
       "    <tr>\n",
       "      <th>2</th>\n",
       "      <td>C203</td>\n",
       "      <td>fis1</td>\n",
       "      <td>Lu</td>\n",
       "      <td>8:00-11:00</td>\n",
       "    </tr>\n",
       "    <tr>\n",
       "      <th>3</th>\n",
       "      <td>C203</td>\n",
       "      <td>fis1</td>\n",
       "      <td>Ma</td>\n",
       "      <td>8:00-11:00</td>\n",
       "    </tr>\n",
       "  </tbody>\n",
       "</table>\n",
       "</div>"
      ],
      "text/plain": [
       "   sala curso dia        hora\n",
       "0  C201  mat1  Lu  8:00-10:00\n",
       "1  C202  mat1  Ma  8:00-10:00\n",
       "2  C203  fis1  Lu  8:00-11:00\n",
       "3  C203  fis1  Ma  8:00-11:00"
      ]
     },
     "execution_count": 72,
     "metadata": {},
     "output_type": "execute_result"
    }
   ],
   "source": [
    "my_columns = [\"sala\",\"curso\",\"dia\",\"hora\"]\n",
    "my_data = []\n",
    "for i, df_row in df.iterrows():\n",
    "    # Procesar cada fila\n",
    "    for col_aux in [\"Lu\",\"Ma\"]:\n",
    "        if df_row[col_aux]==\"X\":\n",
    "            my_row = [df_row.sala, df_row.curso, col_aux, df_row.hora]\n",
    "            my_data.append(my_row)\n",
    "new_df = pd.DataFrame(data=my_data, columns=my_columns)\n",
    "new_df"
   ]
  },
  {
   "cell_type": "markdown",
   "metadata": {
    "slideshow": {
     "slide_type": "slide"
    }
   },
   "source": [
    "## Referencias:\n",
    "\n",
    "* https://medium.com/mission-log/design-better-data-tables-430a30a00d8c\n",
    "* https://medium.com/@enricobergamini/creating-non-numeric-pivot-tables-with-python-pandas-7aa9dfd788a7\n",
    "* https://nikgrozev.com/2015/07/01/reshaping-in-pandas-pivot-pivot-table-stack-and-unstack-explained-with-pictures/"
   ]
  }
 ],
 "metadata": {
  "celltoolbar": "Slideshow",
  "kernelspec": {
   "display_name": "Python 3",
   "language": "python",
   "name": "python3"
  },
  "language_info": {
   "codemirror_mode": {
    "name": "ipython",
    "version": 3
   },
   "file_extension": ".py",
   "mimetype": "text/x-python",
   "name": "python",
   "nbconvert_exporter": "python",
   "pygments_lexer": "ipython3",
   "version": "3.6.6"
  }
 },
 "nbformat": 4,
 "nbformat_minor": 1
}
